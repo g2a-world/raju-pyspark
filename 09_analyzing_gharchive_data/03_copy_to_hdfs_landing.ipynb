{
 "cells": [
  {
   "cell_type": "code",
   "execution_count": 5,
   "metadata": {},
   "outputs": [],
   "source": [
    "%%sh\n",
    "\n",
    "hdfs dfs -mkdir -p /user/${USER}/itv-github/landing"
   ]
  },
  {
   "cell_type": "code",
   "execution_count": 6,
   "metadata": {},
   "outputs": [],
   "source": [
    "%%sh\n",
    "\n",
    "hdfs dfs -copyFromLocal /data/gharchive/*.json.gz /user/${USER}/itv-github/landing"
   ]
  },
  {
   "cell_type": "code",
   "execution_count": 7,
   "metadata": {},
   "outputs": [
    {
     "name": "stdout",
     "output_type": "stream",
     "text": [
      "Found 96 items\n",
      "-rw-r--r--   2 itversity students   47825349 2021-01-24 08:21 /user/itversity/itv-github/landing/2021-01-13-0.json.gz\n",
      "-rw-r--r--   2 itversity students   45560145 2021-01-24 08:21 /user/itversity/itv-github/landing/2021-01-13-1.json.gz\n",
      "-rw-r--r--   2 itversity students   71293671 2021-01-24 08:21 /user/itversity/itv-github/landing/2021-01-13-10.json.gz\n",
      "-rw-r--r--   2 itversity students   65318647 2021-01-24 08:21 /user/itversity/itv-github/landing/2021-01-13-11.json.gz\n",
      "-rw-r--r--   2 itversity students   65044936 2021-01-24 08:21 /user/itversity/itv-github/landing/2021-01-13-12.json.gz\n",
      "-rw-r--r--   2 itversity students   77894277 2021-01-24 08:21 /user/itversity/itv-github/landing/2021-01-13-13.json.gz\n",
      "-rw-r--r--   2 itversity students   81246956 2021-01-24 08:21 /user/itversity/itv-github/landing/2021-01-13-14.json.gz\n",
      "-rw-r--r--   2 itversity students   85821693 2021-01-24 08:21 /user/itversity/itv-github/landing/2021-01-13-15.json.gz\n",
      "-rw-r--r--   2 itversity students   80773183 2021-01-24 08:21 /user/itversity/itv-github/landing/2021-01-13-16.json.gz\n",
      "-rw-r--r--   2 itversity students   74211217 2021-01-24 08:21 /user/itversity/itv-github/landing/2021-01-13-17.json.gz\n",
      "-rw-r--r--   2 itversity students   85334578 2021-01-24 08:21 /user/itversity/itv-github/landing/2021-01-13-18.json.gz\n",
      "-rw-r--r--   2 itversity students   72766696 2021-01-24 08:21 /user/itversity/itv-github/landing/2021-01-13-19.json.gz\n",
      "-rw-r--r--   2 itversity students   44467455 2021-01-24 08:21 /user/itversity/itv-github/landing/2021-01-13-2.json.gz\n",
      "-rw-r--r--   2 itversity students   68686332 2021-01-24 08:21 /user/itversity/itv-github/landing/2021-01-13-20.json.gz\n",
      "-rw-r--r--   2 itversity students   67046149 2021-01-24 08:21 /user/itversity/itv-github/landing/2021-01-13-21.json.gz\n",
      "-rw-r--r--   2 itversity students   61659516 2021-01-24 08:21 /user/itversity/itv-github/landing/2021-01-13-22.json.gz\n",
      "-rw-r--r--   2 itversity students   53437943 2021-01-24 08:21 /user/itversity/itv-github/landing/2021-01-13-23.json.gz\n",
      "-rw-r--r--   2 itversity students   42314408 2021-01-24 08:21 /user/itversity/itv-github/landing/2021-01-13-3.json.gz\n",
      "-rw-r--r--   2 itversity students   43620238 2021-01-24 08:21 /user/itversity/itv-github/landing/2021-01-13-4.json.gz\n",
      "-rw-r--r--   2 itversity students   52649777 2021-01-24 08:21 /user/itversity/itv-github/landing/2021-01-13-5.json.gz\n",
      "-rw-r--r--   2 itversity students   58672363 2021-01-24 08:21 /user/itversity/itv-github/landing/2021-01-13-6.json.gz\n",
      "-rw-r--r--   2 itversity students   62523629 2021-01-24 08:21 /user/itversity/itv-github/landing/2021-01-13-7.json.gz\n",
      "-rw-r--r--   2 itversity students   66034142 2021-01-24 08:21 /user/itversity/itv-github/landing/2021-01-13-8.json.gz\n",
      "-rw-r--r--   2 itversity students   74438431 2021-01-24 08:21 /user/itversity/itv-github/landing/2021-01-13-9.json.gz\n",
      "-rw-r--r--   2 itversity students   48939787 2021-01-24 08:21 /user/itversity/itv-github/landing/2021-01-14-0.json.gz\n",
      "-rw-r--r--   2 itversity students   45571519 2021-01-24 08:21 /user/itversity/itv-github/landing/2021-01-14-1.json.gz\n",
      "-rw-r--r--   2 itversity students   68647918 2021-01-24 08:21 /user/itversity/itv-github/landing/2021-01-14-10.json.gz\n",
      "-rw-r--r--   2 itversity students   64715976 2021-01-24 08:21 /user/itversity/itv-github/landing/2021-01-14-11.json.gz\n",
      "-rw-r--r--   2 itversity students   65023905 2021-01-24 08:21 /user/itversity/itv-github/landing/2021-01-14-12.json.gz\n",
      "-rw-r--r--   2 itversity students   72086940 2021-01-24 08:21 /user/itversity/itv-github/landing/2021-01-14-13.json.gz\n",
      "-rw-r--r--   2 itversity students   79622290 2021-01-24 08:21 /user/itversity/itv-github/landing/2021-01-14-14.json.gz\n",
      "-rw-r--r--   2 itversity students   82477550 2021-01-24 08:21 /user/itversity/itv-github/landing/2021-01-14-15.json.gz\n",
      "-rw-r--r--   2 itversity students   79619325 2021-01-24 08:21 /user/itversity/itv-github/landing/2021-01-14-16.json.gz\n",
      "-rw-r--r--   2 itversity students   75428029 2021-01-24 08:21 /user/itversity/itv-github/landing/2021-01-14-17.json.gz\n",
      "-rw-r--r--   2 itversity students   69959798 2021-01-24 08:21 /user/itversity/itv-github/landing/2021-01-14-18.json.gz\n",
      "-rw-r--r--   2 itversity students   77306109 2021-01-24 08:21 /user/itversity/itv-github/landing/2021-01-14-19.json.gz\n",
      "-rw-r--r--   2 itversity students   45418752 2021-01-24 08:22 /user/itversity/itv-github/landing/2021-01-14-2.json.gz\n",
      "-rw-r--r--   2 itversity students   94160369 2021-01-24 08:21 /user/itversity/itv-github/landing/2021-01-14-20.json.gz\n",
      "-rw-r--r--   2 itversity students   65861337 2021-01-24 08:21 /user/itversity/itv-github/landing/2021-01-14-21.json.gz\n",
      "-rw-r--r--   2 itversity students   61744991 2021-01-24 08:22 /user/itversity/itv-github/landing/2021-01-14-22.json.gz\n",
      "-rw-r--r--   2 itversity students   54949831 2021-01-24 08:22 /user/itversity/itv-github/landing/2021-01-14-23.json.gz\n",
      "-rw-r--r--   2 itversity students   43278885 2021-01-24 08:22 /user/itversity/itv-github/landing/2021-01-14-3.json.gz\n",
      "-rw-r--r--   2 itversity students   42641735 2021-01-24 08:22 /user/itversity/itv-github/landing/2021-01-14-4.json.gz\n",
      "-rw-r--r--   2 itversity students   55102086 2021-01-24 08:22 /user/itversity/itv-github/landing/2021-01-14-5.json.gz\n",
      "-rw-r--r--   2 itversity students   65292924 2021-01-24 08:22 /user/itversity/itv-github/landing/2021-01-14-6.json.gz\n",
      "-rw-r--r--   2 itversity students   64296969 2021-01-24 08:22 /user/itversity/itv-github/landing/2021-01-14-7.json.gz\n",
      "-rw-r--r--   2 itversity students   63686075 2021-01-24 08:22 /user/itversity/itv-github/landing/2021-01-14-8.json.gz\n",
      "-rw-r--r--   2 itversity students   70178774 2021-01-24 08:22 /user/itversity/itv-github/landing/2021-01-14-9.json.gz\n",
      "-rw-r--r--   2 itversity students   45732837 2021-01-24 08:22 /user/itversity/itv-github/landing/2021-01-15-0.json.gz\n",
      "-rw-r--r--   2 itversity students   44620285 2021-01-24 08:22 /user/itversity/itv-github/landing/2021-01-15-1.json.gz\n",
      "-rw-r--r--   2 itversity students   66420762 2021-01-24 08:22 /user/itversity/itv-github/landing/2021-01-15-10.json.gz\n",
      "-rw-r--r--   2 itversity students   63453350 2021-01-24 08:22 /user/itversity/itv-github/landing/2021-01-15-11.json.gz\n",
      "-rw-r--r--   2 itversity students   61805367 2021-01-24 08:22 /user/itversity/itv-github/landing/2021-01-15-12.json.gz\n",
      "-rw-r--r--   2 itversity students   70278294 2021-01-24 08:22 /user/itversity/itv-github/landing/2021-01-15-13.json.gz\n",
      "-rw-r--r--   2 itversity students   71761298 2021-01-24 08:22 /user/itversity/itv-github/landing/2021-01-15-14.json.gz\n",
      "-rw-r--r--   2 itversity students   73767676 2021-01-24 08:22 /user/itversity/itv-github/landing/2021-01-15-15.json.gz\n",
      "-rw-r--r--   2 itversity students   73143530 2021-01-24 08:22 /user/itversity/itv-github/landing/2021-01-15-16.json.gz\n",
      "-rw-r--r--   2 itversity students   70981314 2021-01-24 08:22 /user/itversity/itv-github/landing/2021-01-15-17.json.gz\n",
      "-rw-r--r--   2 itversity students   66377992 2021-01-24 08:22 /user/itversity/itv-github/landing/2021-01-15-18.json.gz\n",
      "-rw-r--r--   2 itversity students   62375641 2021-01-24 08:22 /user/itversity/itv-github/landing/2021-01-15-19.json.gz\n",
      "-rw-r--r--   2 itversity students   44713680 2021-01-24 08:22 /user/itversity/itv-github/landing/2021-01-15-2.json.gz\n",
      "-rw-r--r--   2 itversity students   58359712 2021-01-24 08:22 /user/itversity/itv-github/landing/2021-01-15-20.json.gz\n",
      "-rw-r--r--   2 itversity students   57525229 2021-01-24 08:22 /user/itversity/itv-github/landing/2021-01-15-21.json.gz\n",
      "-rw-r--r--   2 itversity students   51293022 2021-01-24 08:22 /user/itversity/itv-github/landing/2021-01-15-22.json.gz\n",
      "-rw-r--r--   2 itversity students   56179396 2021-01-24 08:22 /user/itversity/itv-github/landing/2021-01-15-23.json.gz\n",
      "-rw-r--r--   2 itversity students   41251256 2021-01-24 08:22 /user/itversity/itv-github/landing/2021-01-15-3.json.gz\n",
      "-rw-r--r--   2 itversity students   41469943 2021-01-24 08:22 /user/itversity/itv-github/landing/2021-01-15-4.json.gz\n",
      "-rw-r--r--   2 itversity students   54600826 2021-01-24 08:22 /user/itversity/itv-github/landing/2021-01-15-5.json.gz\n",
      "-rw-r--r--   2 itversity students   64890927 2021-01-24 08:22 /user/itversity/itv-github/landing/2021-01-15-6.json.gz\n",
      "-rw-r--r--   2 itversity students   64776141 2021-01-24 08:22 /user/itversity/itv-github/landing/2021-01-15-7.json.gz\n",
      "-rw-r--r--   2 itversity students   62006797 2021-01-24 08:22 /user/itversity/itv-github/landing/2021-01-15-8.json.gz\n",
      "-rw-r--r--   2 itversity students   65526835 2021-01-24 08:22 /user/itversity/itv-github/landing/2021-01-15-9.json.gz\n",
      "-rw-r--r--   2 itversity students   40992667 2021-01-24 08:22 /user/itversity/itv-github/landing/2021-01-16-0.json.gz\n",
      "-rw-r--r--   2 itversity students   35481943 2021-01-24 08:22 /user/itversity/itv-github/landing/2021-01-16-1.json.gz\n",
      "-rw-r--r--   2 itversity students   31968435 2021-01-24 08:22 /user/itversity/itv-github/landing/2021-01-16-10.json.gz\n",
      "-rw-r--r--   2 itversity students   33247270 2021-01-24 08:22 /user/itversity/itv-github/landing/2021-01-16-11.json.gz\n",
      "-rw-r--r--   2 itversity students   36851086 2021-01-24 08:22 /user/itversity/itv-github/landing/2021-01-16-12.json.gz\n",
      "-rw-r--r--   2 itversity students   37109752 2021-01-24 08:22 /user/itversity/itv-github/landing/2021-01-16-13.json.gz\n",
      "-rw-r--r--   2 itversity students   40576868 2021-01-24 08:22 /user/itversity/itv-github/landing/2021-01-16-14.json.gz\n",
      "-rw-r--r--   2 itversity students   40921977 2021-01-24 08:22 /user/itversity/itv-github/landing/2021-01-16-15.json.gz\n",
      "-rw-r--r--   2 itversity students   42346925 2021-01-24 08:22 /user/itversity/itv-github/landing/2021-01-16-16.json.gz\n",
      "-rw-r--r--   2 itversity students   40222832 2021-01-24 08:22 /user/itversity/itv-github/landing/2021-01-16-17.json.gz\n",
      "-rw-r--r--   2 itversity students   39460844 2021-01-24 08:22 /user/itversity/itv-github/landing/2021-01-16-18.json.gz\n",
      "-rw-r--r--   2 itversity students   38734453 2021-01-24 08:22 /user/itversity/itv-github/landing/2021-01-16-19.json.gz\n",
      "-rw-r--r--   2 itversity students   34133533 2021-01-24 08:22 /user/itversity/itv-github/landing/2021-01-16-2.json.gz\n",
      "-rw-r--r--   2 itversity students   35489273 2021-01-24 08:22 /user/itversity/itv-github/landing/2021-01-16-20.json.gz\n",
      "-rw-r--r--   2 itversity students   34439170 2021-01-24 08:22 /user/itversity/itv-github/landing/2021-01-16-21.json.gz\n",
      "-rw-r--r--   2 itversity students   31832508 2021-01-24 08:22 /user/itversity/itv-github/landing/2021-01-16-22.json.gz\n",
      "-rw-r--r--   2 itversity students   28627994 2021-01-24 08:22 /user/itversity/itv-github/landing/2021-01-16-23.json.gz\n",
      "-rw-r--r--   2 itversity students   29920475 2021-01-24 08:22 /user/itversity/itv-github/landing/2021-01-16-3.json.gz\n",
      "-rw-r--r--   2 itversity students   26999210 2021-01-24 08:22 /user/itversity/itv-github/landing/2021-01-16-4.json.gz\n",
      "-rw-r--r--   2 itversity students   25842995 2021-01-24 08:22 /user/itversity/itv-github/landing/2021-01-16-5.json.gz\n",
      "-rw-r--r--   2 itversity students   26132898 2021-01-24 08:22 /user/itversity/itv-github/landing/2021-01-16-6.json.gz\n",
      "-rw-r--r--   2 itversity students   27672129 2021-01-24 08:22 /user/itversity/itv-github/landing/2021-01-16-7.json.gz\n",
      "-rw-r--r--   2 itversity students   28849210 2021-01-24 08:22 /user/itversity/itv-github/landing/2021-01-16-8.json.gz\n",
      "-rw-r--r--   2 itversity students   30668785 2021-01-24 08:22 /user/itversity/itv-github/landing/2021-01-16-9.json.gz\n"
     ]
    }
   ],
   "source": [
    "%%sh\n",
    "\n",
    "hdfs dfs -ls /user/${USER}/itv-github/landing"
   ]
  },
  {
   "cell_type": "code",
   "execution_count": null,
   "metadata": {},
   "outputs": [],
   "source": []
  }
 ],
 "metadata": {
  "kernelspec": {
   "display_name": "Python 3",
   "language": "python",
   "name": "python3"
  },
  "language_info": {
   "codemirror_mode": {
    "name": "ipython",
    "version": 3
   },
   "file_extension": ".py",
   "mimetype": "text/x-python",
   "name": "python",
   "nbconvert_exporter": "python",
   "pygments_lexer": "ipython3",
   "version": "3.6.8"
  }
 },
 "nbformat": 4,
 "nbformat_minor": 4
}
