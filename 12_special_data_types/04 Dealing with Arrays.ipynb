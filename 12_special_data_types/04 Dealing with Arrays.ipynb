{
 "cells": [
  {
   "cell_type": "markdown",
   "metadata": {},
   "source": [
    "## Dealing with Arrays\n",
    "Let us understand how to deal with array type columns in the Data Frame."
   ]
  },
  {
   "cell_type": "markdown",
   "metadata": {},
   "source": [
    "Let us start spark context for this Notebook so that we can execute the code provided. You can sign up for our [10 node state of the art cluster/labs](https://labs.itversity.com/plans) to learn Spark SQL using our unique integrated LMS."
   ]
  },
  {
   "cell_type": "code",
   "execution_count": 1,
   "metadata": {},
   "outputs": [],
   "source": [
    "from pyspark.sql import SparkSession\n",
    "\n",
    "import getpass\n",
    "username = getpass.getuser()\n",
    "\n",
    "spark = SparkSession. \\\n",
    "    builder. \\\n",
    "    config('spark.ui.port', '0'). \\\n",
    "    config(\"spark.sql.warehouse.dir\", f\"/user/{username}/warehouse\"). \\\n",
    "    enableHiveSupport(). \\\n",
    "    appName(f'{username} | Python - Special Data Types'). \\\n",
    "    master('yarn'). \\\n",
    "    getOrCreate()"
   ]
  },
  {
   "cell_type": "markdown",
   "metadata": {},
   "source": [
    "If you are going to use CLIs, you can use Spark SQL using one of the 3 approaches.\n",
    "\n",
    "**Using Spark SQL**\n",
    "\n",
    "```\n",
    "spark2-sql \\\n",
    "    --master yarn \\\n",
    "    --conf spark.ui.port=0 \\\n",
    "    --conf spark.sql.warehouse.dir=/user/${USER}/warehouse\n",
    "```\n",
    "\n",
    "**Using Scala**\n",
    "\n",
    "```\n",
    "spark2-shell \\\n",
    "    --master yarn \\\n",
    "    --conf spark.ui.port=0 \\\n",
    "    --conf spark.sql.warehouse.dir=/user/${USER}/warehouse\n",
    "```\n",
    "\n",
    "**Using Pyspark**\n",
    "\n",
    "```\n",
    "pyspark2 \\\n",
    "    --master yarn \\\n",
    "    --conf spark.ui.port=0 \\\n",
    "    --conf spark.sql.warehouse.dir=/user/${USER}/warehouse\n",
    "```"
   ]
  },
  {
   "cell_type": "code",
   "execution_count": 2,
   "metadata": {},
   "outputs": [],
   "source": [
    "employees = [\n",
    "     (2, \"Henry\", \"Ford\", 1250.0, \n",
    "      \"India\", ['henry@ford.com', 'hford@companyx.com'], \n",
    "      {\"Home\": \"+91 234 567 8901\", \"Office\": \"+91 345 678 9012\"}, \n",
    "      \"456 78 9123\", ('111 BCD Cir', 'Some City', 'Some State', 500091)\n",
    "     ),\n",
    "     (3, \"Nick\", \"Junior\", 750.0, \n",
    "      \"United Kingdom\", ['nick@junior.com', 'njunior@companyx.com'], \n",
    "      {\"Home\": \"+44 111 111 1111\", \"Office\": \"+44 222 222 2222\"}, \n",
    "      \"222 33 4444\", ('222 Giant Cly', 'UK City', 'UK Province', None)\n",
    "     ),\n",
    "     (4, \"Bill\", \"Gomes\", 1500.0, \n",
    "      \"Australia\", ['bill@gomes.com', 'bgomes@companyx.com'], \n",
    "      {\"Home\": \"+61 987 654 3210\", \"Office\": \"+61 876 543 2109\"}, \n",
    "      \"789 12 6118\", None\n",
    "     )\n",
    "]"
   ]
  },
  {
   "cell_type": "code",
   "execution_count": 3,
   "metadata": {},
   "outputs": [],
   "source": [
    "employees_df = spark.createDataFrame(\n",
    "    employees,\n",
    "    schema=\"\"\"employee_id INT, employee_first_name STRING, employee_last_name STRING,\n",
    "        employee_salary FLOAT, employee_nationality STRING, employee_email_ids ARRAY<STRING>,\n",
    "        employee_phone_numbers MAP<STRING, STRING>, employee_ssn STRING,\n",
    "        employee_address STRUCT<street: STRING, city: STRING, state: STRING, postal_code: INT>\n",
    "    \"\"\"\n",
    ")"
   ]
  },
  {
   "cell_type": "code",
   "execution_count": 4,
   "metadata": {},
   "outputs": [
    {
     "name": "stdout",
     "output_type": "stream",
     "text": [
      "root\n",
      " |-- employee_id: integer (nullable = true)\n",
      " |-- employee_first_name: string (nullable = true)\n",
      " |-- employee_last_name: string (nullable = true)\n",
      " |-- employee_salary: float (nullable = true)\n",
      " |-- employee_nationality: string (nullable = true)\n",
      " |-- employee_email_ids: array (nullable = true)\n",
      " |    |-- element: string (containsNull = true)\n",
      " |-- employee_phone_numbers: map (nullable = true)\n",
      " |    |-- key: string\n",
      " |    |-- value: string (valueContainsNull = true)\n",
      " |-- employee_ssn: string (nullable = true)\n",
      " |-- employee_address: struct (nullable = true)\n",
      " |    |-- street: string (nullable = true)\n",
      " |    |-- city: string (nullable = true)\n",
      " |    |-- state: string (nullable = true)\n",
      " |    |-- postal_code: integer (nullable = true)\n",
      "\n"
     ]
    }
   ],
   "source": [
    "employees_df.printSchema()"
   ]
  },
  {
   "cell_type": "code",
   "execution_count": 5,
   "metadata": {},
   "outputs": [
    {
     "name": "stdout",
     "output_type": "stream",
     "text": [
      "+-----------+-------------------+------------------+---------------+--------------------+---------------------------------------+------------------------------------------------------+------------+--------------------------------------------+\n",
      "|employee_id|employee_first_name|employee_last_name|employee_salary|employee_nationality|employee_email_ids                     |employee_phone_numbers                                |employee_ssn|employee_address                            |\n",
      "+-----------+-------------------+------------------+---------------+--------------------+---------------------------------------+------------------------------------------------------+------------+--------------------------------------------+\n",
      "|2          |Henry              |Ford              |1250.0         |India               |[henry@ford.com, hford@companyx.com]   |[Office -> +91 345 678 9012, Home -> +91 234 567 8901]|456 78 9123 |[111 BCD Cir, Some City, Some State, 500091]|\n",
      "|3          |Nick               |Junior            |750.0          |United Kingdom      |[nick@junior.com, njunior@companyx.com]|[Office -> +44 222 222 2222, Home -> +44 111 111 1111]|222 33 4444 |[222 Giant Cly, UK City, UK Province,]      |\n",
      "|4          |Bill               |Gomes             |1500.0         |Australia           |[bill@gomes.com, bgomes@companyx.com]  |[Office -> +61 876 543 2109, Home -> +61 987 654 3210]|789 12 6118 |null                                        |\n",
      "+-----------+-------------------+------------------+---------------+--------------------+---------------------------------------+------------------------------------------------------+------------+--------------------------------------------+\n",
      "\n"
     ]
    }
   ],
   "source": [
    "employees_df.show(truncate=False)"
   ]
  },
  {
   "cell_type": "code",
   "execution_count": 6,
   "metadata": {},
   "outputs": [
    {
     "name": "stdout",
     "output_type": "stream",
     "text": [
      "+---------------------------------------+\n",
      "|employee_email_ids                     |\n",
      "+---------------------------------------+\n",
      "|[henry@ford.com, hford@companyx.com]   |\n",
      "|[nick@junior.com, njunior@companyx.com]|\n",
      "|[bill@gomes.com, bgomes@companyx.com]  |\n",
      "+---------------------------------------+\n",
      "\n"
     ]
    }
   ],
   "source": [
    "employees_df.select('employee_email_ids').show(truncate=False)"
   ]
  },
  {
   "cell_type": "markdown",
   "metadata": {},
   "source": [
    "* We can use `explode` function to explode an array into multiple rows. Let us get employee id with email ids exploded into multiple rows."
   ]
  },
  {
   "cell_type": "code",
   "execution_count": 7,
   "metadata": {},
   "outputs": [
    {
     "data": {
      "text/plain": [
       "3"
      ]
     },
     "execution_count": 7,
     "metadata": {},
     "output_type": "execute_result"
    }
   ],
   "source": [
    "employees_df.count()"
   ]
  },
  {
   "cell_type": "code",
   "execution_count": 8,
   "metadata": {},
   "outputs": [],
   "source": [
    "from pyspark.sql.functions import explode"
   ]
  },
  {
   "cell_type": "code",
   "execution_count": 11,
   "metadata": {},
   "outputs": [
    {
     "name": "stdout",
     "output_type": "stream",
     "text": [
      "+-----------+--------------------+\n",
      "|employee_id|employee_id         |\n",
      "+-----------+--------------------+\n",
      "|2          |henry@ford.com      |\n",
      "|2          |hford@companyx.com  |\n",
      "|3          |nick@junior.com     |\n",
      "|3          |njunior@companyx.com|\n",
      "|4          |bill@gomes.com      |\n",
      "|4          |bgomes@companyx.com |\n",
      "+-----------+--------------------+\n",
      "\n"
     ]
    }
   ],
   "source": [
    "employees_df.select('employee_id', explode('employee_email_ids').alias('employee_id')).show(truncate=False)"
   ]
  },
  {
   "cell_type": "code",
   "execution_count": 12,
   "metadata": {},
   "outputs": [
    {
     "data": {
      "text/plain": [
       "6"
      ]
     },
     "execution_count": 12,
     "metadata": {},
     "output_type": "execute_result"
    }
   ],
   "source": [
    "employees_df.select('employee_id', explode('employee_email_ids')).count()"
   ]
  },
  {
   "cell_type": "markdown",
   "metadata": {},
   "source": [
    "* We can use `concat_ws` on top of email ids to convert array into delimited string."
   ]
  },
  {
   "cell_type": "code",
   "execution_count": 13,
   "metadata": {},
   "outputs": [],
   "source": [
    "from pyspark.sql.functions import concat_ws"
   ]
  },
  {
   "cell_type": "code",
   "execution_count": 17,
   "metadata": {},
   "outputs": [
    {
     "name": "stdout",
     "output_type": "stream",
     "text": [
      "+-----------+-------------------------------------+\n",
      "|employee_id|employee_email_ids                   |\n",
      "+-----------+-------------------------------------+\n",
      "|2          |henry@ford.com, hford@companyx.com   |\n",
      "|3          |nick@junior.com, njunior@companyx.com|\n",
      "|4          |bill@gomes.com, bgomes@companyx.com  |\n",
      "+-----------+-------------------------------------+\n",
      "\n"
     ]
    }
   ],
   "source": [
    "employees_df. \\\n",
    "    select('employee_id', concat_ws(', ', 'employee_email_ids').alias('employee_email_ids')). \\\n",
    "    show(truncate=False)"
   ]
  },
  {
   "cell_type": "markdown",
   "metadata": {},
   "source": [
    "* We can convert delimited string into array using `split` function."
   ]
  },
  {
   "cell_type": "code",
   "execution_count": 18,
   "metadata": {},
   "outputs": [],
   "source": [
    "employees = [\n",
    "     (2, \"Henry\", \"Ford\", 1250.0, \n",
    "      \"India\", 'henry@ford.com, hford@companyx.com', \n",
    "      {\"Home\": \"+91 234 567 8901\", \"Office\": \"+91 345 678 9012\"}, \n",
    "      \"456 78 9123\", ('111 BCD Cir', 'Some City', 'Some State', 500091)\n",
    "     ),\n",
    "     (3, \"Nick\", \"Junior\", 750.0, \n",
    "      \"United Kingdom\", 'nick@junior.com, njunior@companyx.com', \n",
    "      {\"Home\": \"+44 111 111 1111\", \"Office\": \"+44 222 222 2222\"}, \n",
    "      \"222 33 4444\", ('222 Giant Cly', 'UK City', 'UK Province', None)\n",
    "     ),\n",
    "     (4, \"Bill\", \"Gomes\", 1500.0, \n",
    "      \"Australia\", 'bill@gomes.com, bgomes@companyx.com', \n",
    "      {\"Home\": \"+61 987 654 3210\", \"Office\": \"+61 876 543 2109\"}, \n",
    "      \"789 12 6118\", None\n",
    "     )\n",
    "]"
   ]
  },
  {
   "cell_type": "code",
   "execution_count": 19,
   "metadata": {},
   "outputs": [],
   "source": [
    "employees_df = spark.createDataFrame(\n",
    "    employees,\n",
    "    schema=\"\"\"employee_id INT, employee_first_name STRING, employee_last_name STRING,\n",
    "        employee_salary FLOAT, employee_nationality STRING, employee_email_ids STRING,\n",
    "        employee_phone_numbers MAP<STRING, STRING>, employee_ssn STRING,\n",
    "        employee_address STRUCT<street: STRING, city: STRING, state: STRING, postal_code: INT>\n",
    "    \"\"\"\n",
    ")"
   ]
  },
  {
   "cell_type": "code",
   "execution_count": 20,
   "metadata": {},
   "outputs": [
    {
     "name": "stdout",
     "output_type": "stream",
     "text": [
      "+-----------+-------------------------------------+\n",
      "|employee_id|employee_email_ids                   |\n",
      "+-----------+-------------------------------------+\n",
      "|2          |henry@ford.com, hford@companyx.com   |\n",
      "|3          |nick@junior.com, njunior@companyx.com|\n",
      "|4          |bill@gomes.com, bgomes@companyx.com  |\n",
      "+-----------+-------------------------------------+\n",
      "\n"
     ]
    }
   ],
   "source": [
    "employees_df. \\\n",
    "    select('employee_id', 'employee_email_ids'). \\\n",
    "    show(truncate=False)"
   ]
  },
  {
   "cell_type": "code",
   "execution_count": 21,
   "metadata": {},
   "outputs": [],
   "source": [
    "from pyspark.sql.functions import split"
   ]
  },
  {
   "cell_type": "code",
   "execution_count": 22,
   "metadata": {},
   "outputs": [
    {
     "name": "stdout",
     "output_type": "stream",
     "text": [
      "+-----------+---------------------------------------+\n",
      "|employee_id|split(employee_email_ids, , )          |\n",
      "+-----------+---------------------------------------+\n",
      "|2          |[henry@ford.com, hford@companyx.com]   |\n",
      "|3          |[nick@junior.com, njunior@companyx.com]|\n",
      "|4          |[bill@gomes.com, bgomes@companyx.com]  |\n",
      "+-----------+---------------------------------------+\n",
      "\n"
     ]
    }
   ],
   "source": [
    "employees_df. \\\n",
    "    select('employee_id', split('employee_email_ids', ', ').alias('employee_email_ids')). \\\n",
    "    show(truncate=False)"
   ]
  },
  {
   "cell_type": "code",
   "execution_count": 24,
   "metadata": {},
   "outputs": [
    {
     "name": "stdout",
     "output_type": "stream",
     "text": [
      "root\n",
      " |-- employee_id: integer (nullable = true)\n",
      " |-- employee_email_ids: array (nullable = true)\n",
      " |    |-- element: string (containsNull = true)\n",
      "\n"
     ]
    }
   ],
   "source": [
    "employees_df. \\\n",
    "    select('employee_id', split('employee_email_ids', ', ').alias('employee_email_ids')). \\\n",
    "    printSchema()"
   ]
  },
  {
   "cell_type": "code",
   "execution_count": null,
   "metadata": {},
   "outputs": [],
   "source": []
  }
 ],
 "metadata": {
  "kernelspec": {
   "display_name": "Pyspark 2",
   "language": "python",
   "name": "pyspark2"
  },
  "language_info": {
   "codemirror_mode": {
    "name": "ipython",
    "version": 3
   },
   "file_extension": ".py",
   "mimetype": "text/x-python",
   "name": "python",
   "nbconvert_exporter": "python",
   "pygments_lexer": "ipython3",
   "version": "3.6.8"
  }
 },
 "nbformat": 4,
 "nbformat_minor": 4
}
