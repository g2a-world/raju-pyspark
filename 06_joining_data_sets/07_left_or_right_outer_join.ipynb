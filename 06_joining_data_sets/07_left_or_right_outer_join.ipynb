{
 "cells": [
  {
   "cell_type": "markdown",
   "metadata": {},
   "source": [
    "## Left or Right Outer Join\n",
    "\n",
    "Let us understand about left or right outer join using Spark.\n",
    "* We get the data from both the data sets satisfying the join condition along with the data from the driving table which does not satisfy the join condition."
   ]
  },
  {
   "cell_type": "markdown",
   "metadata": {},
   "source": [
    "Let us start spark context for this Notebook so that we can execute the code provided. You can sign up for our [10 node state of the art cluster/labs](https://labs.itversity.com/plans) to learn Spark SQL using our unique integrated LMS."
   ]
  },
  {
   "cell_type": "code",
   "execution_count": 1,
   "metadata": {},
   "outputs": [],
   "source": [
    "from pyspark.sql import SparkSession\n",
    "\n",
    "import getpass\n",
    "username = getpass.getuser()\n",
    "\n",
    "spark = SparkSession. \\\n",
    "    builder. \\\n",
    "    config('spark.ui.port', '0'). \\\n",
    "    config(\"spark.sql.warehouse.dir\", f\"/user/{username}/warehouse\"). \\\n",
    "    enableHiveSupport(). \\\n",
    "    appName(f'{username} | Python - Joining Data Sets'). \\\n",
    "    master('yarn'). \\\n",
    "    getOrCreate()"
   ]
  },
  {
   "cell_type": "markdown",
   "metadata": {},
   "source": [
    "If you are going to use CLIs, you can use Spark SQL using one of the 3 approaches.\n",
    "\n",
    "**Using Spark SQL**\n",
    "\n",
    "```\n",
    "spark2-sql \\\n",
    "    --master yarn \\\n",
    "    --conf spark.ui.port=0 \\\n",
    "    --conf spark.sql.warehouse.dir=/user/${USER}/warehouse\n",
    "```\n",
    "\n",
    "**Using Scala**\n",
    "\n",
    "```\n",
    "spark2-shell \\\n",
    "    --master yarn \\\n",
    "    --conf spark.ui.port=0 \\\n",
    "    --conf spark.sql.warehouse.dir=/user/${USER}/warehouse\n",
    "```\n",
    "\n",
    "**Using Pyspark**\n",
    "\n",
    "```\n",
    "pyspark2 \\\n",
    "    --master yarn \\\n",
    "    --conf spark.ui.port=0 \\\n",
    "    --conf spark.sql.warehouse.dir=/user/${USER}/warehouse\n",
    "```"
   ]
  },
  {
   "cell_type": "code",
   "execution_count": 2,
   "metadata": {},
   "outputs": [],
   "source": [
    "spark.conf.set(\"spark.sql.shuffle.partitions\", \"2\")"
   ]
  },
  {
   "cell_type": "code",
   "execution_count": 3,
   "metadata": {},
   "outputs": [],
   "source": [
    "orders = spark.read.json('/public/retail_db_json/orders')"
   ]
  },
  {
   "cell_type": "code",
   "execution_count": 4,
   "metadata": {},
   "outputs": [],
   "source": [
    "order_items = spark.read.json('/public/retail_db_json/order_items')"
   ]
  },
  {
   "cell_type": "code",
   "execution_count": 5,
   "metadata": {},
   "outputs": [
    {
     "name": "stdout",
     "output_type": "stream",
     "text": [
      "root\n",
      " |-- order_customer_id: long (nullable = true)\n",
      " |-- order_date: string (nullable = true)\n",
      " |-- order_id: long (nullable = true)\n",
      " |-- order_status: string (nullable = true)\n",
      "\n"
     ]
    }
   ],
   "source": [
    "orders.printSchema()"
   ]
  },
  {
   "cell_type": "code",
   "execution_count": 6,
   "metadata": {},
   "outputs": [
    {
     "name": "stdout",
     "output_type": "stream",
     "text": [
      "root\n",
      " |-- order_item_id: long (nullable = true)\n",
      " |-- order_item_order_id: long (nullable = true)\n",
      " |-- order_item_product_id: long (nullable = true)\n",
      " |-- order_item_product_price: double (nullable = true)\n",
      " |-- order_item_quantity: long (nullable = true)\n",
      " |-- order_item_subtotal: double (nullable = true)\n",
      "\n"
     ]
    }
   ],
   "source": [
    "order_items.printSchema()"
   ]
  },
  {
   "cell_type": "code",
   "execution_count": 7,
   "metadata": {},
   "outputs": [
    {
     "name": "stdout",
     "output_type": "stream",
     "text": [
      "Help on method join in module pyspark.sql.dataframe:\n",
      "\n",
      "join(other, on=None, how=None) method of pyspark.sql.dataframe.DataFrame instance\n",
      "    Joins with another :class:`DataFrame`, using the given join expression.\n",
      "    \n",
      "    :param other: Right side of the join\n",
      "    :param on: a string for the join column name, a list of column names,\n",
      "        a join expression (Column), or a list of Columns.\n",
      "        If `on` is a string or a list of strings indicating the name of the join column(s),\n",
      "        the column(s) must exist on both sides, and this performs an equi-join.\n",
      "    :param how: str, default ``inner``. Must be one of: ``inner``, ``cross``, ``outer``,\n",
      "        ``full``, ``full_outer``, ``left``, ``left_outer``, ``right``, ``right_outer``,\n",
      "        ``left_semi``, and ``left_anti``.\n",
      "    \n",
      "    The following performs a full outer join between ``df1`` and ``df2``.\n",
      "    \n",
      "    >>> df.join(df2, df.name == df2.name, 'outer').select(df.name, df2.height).collect()\n",
      "    [Row(name=None, height=80), Row(name='Bob', height=85), Row(name='Alice', height=None)]\n",
      "    \n",
      "    >>> df.join(df2, 'name', 'outer').select('name', 'height').collect()\n",
      "    [Row(name='Tom', height=80), Row(name='Bob', height=85), Row(name='Alice', height=None)]\n",
      "    \n",
      "    >>> cond = [df.name == df3.name, df.age == df3.age]\n",
      "    >>> df.join(df3, cond, 'outer').select(df.name, df3.age).collect()\n",
      "    [Row(name='Alice', age=2), Row(name='Bob', age=5)]\n",
      "    \n",
      "    >>> df.join(df2, 'name').select(df.name, df2.height).collect()\n",
      "    [Row(name='Bob', height=85)]\n",
      "    \n",
      "    >>> df.join(df4, ['name', 'age']).select(df.name, df.age).collect()\n",
      "    [Row(name='Bob', age=5)]\n",
      "    \n",
      "    .. versionadded:: 1.3\n",
      "\n"
     ]
    }
   ],
   "source": [
    "help(orders.join)"
   ]
  },
  {
   "cell_type": "code",
   "execution_count": 8,
   "metadata": {},
   "outputs": [],
   "source": [
    "orders_join = orders.join(\n",
    "    order_items, \n",
    "    on=orders['order_id'] == order_items['order_item_order_id'],\n",
    "    how='inner'\n",
    ")"
   ]
  },
  {
   "cell_type": "code",
   "execution_count": 9,
   "metadata": {},
   "outputs": [
    {
     "data": {
      "text/plain": [
       "172198"
      ]
     },
     "execution_count": 9,
     "metadata": {},
     "output_type": "execute_result"
    }
   ],
   "source": [
    "orders_join.count()"
   ]
  },
  {
   "cell_type": "code",
   "execution_count": 10,
   "metadata": {},
   "outputs": [],
   "source": [
    "orders_outer = orders.join(\n",
    "    order_items, \n",
    "    on=orders['order_id'] == order_items['order_item_order_id'],\n",
    "    how='outer'\n",
    ")"
   ]
  },
  {
   "cell_type": "code",
   "execution_count": 11,
   "metadata": {},
   "outputs": [
    {
     "name": "stdout",
     "output_type": "stream",
     "text": [
      "root\n",
      " |-- order_customer_id: long (nullable = true)\n",
      " |-- order_date: string (nullable = true)\n",
      " |-- order_id: long (nullable = true)\n",
      " |-- order_status: string (nullable = true)\n",
      " |-- order_item_id: long (nullable = true)\n",
      " |-- order_item_order_id: long (nullable = true)\n",
      " |-- order_item_product_id: long (nullable = true)\n",
      " |-- order_item_product_price: double (nullable = true)\n",
      " |-- order_item_quantity: long (nullable = true)\n",
      " |-- order_item_subtotal: double (nullable = true)\n",
      "\n"
     ]
    }
   ],
   "source": [
    "orders_outer.printSchema()"
   ]
  },
  {
   "cell_type": "code",
   "execution_count": 12,
   "metadata": {},
   "outputs": [
    {
     "name": "stdout",
     "output_type": "stream",
     "text": [
      "+-----------------+--------------------+--------+---------------+-------------+-------------------+---------------------+------------------------+-------------------+-------------------+\n",
      "|order_customer_id|          order_date|order_id|   order_status|order_item_id|order_item_order_id|order_item_product_id|order_item_product_price|order_item_quantity|order_item_subtotal|\n",
      "+-----------------+--------------------+--------+---------------+-------------+-------------------+---------------------+------------------------+-------------------+-------------------+\n",
      "|              256|2013-07-25 00:00:...|       2|PENDING_PAYMENT|            2|                  2|                 1073|                  199.99|                  1|             199.99|\n",
      "|              256|2013-07-25 00:00:...|       2|PENDING_PAYMENT|            3|                  2|                  502|                    50.0|                  5|              250.0|\n",
      "|              256|2013-07-25 00:00:...|       2|PENDING_PAYMENT|            4|                  2|                  403|                  129.99|                  1|             129.99|\n",
      "|             8827|2013-07-25 00:00:...|       4|         CLOSED|            5|                  4|                  897|                   24.99|                  2|              49.98|\n",
      "|             8827|2013-07-25 00:00:...|       4|         CLOSED|            6|                  4|                  365|                   59.99|                  5|             299.95|\n",
      "|             8827|2013-07-25 00:00:...|       4|         CLOSED|            7|                  4|                  502|                    50.0|                  3|              150.0|\n",
      "|             8827|2013-07-25 00:00:...|       4|         CLOSED|            8|                  4|                 1014|                   49.98|                  4|             199.92|\n",
      "|            11318|2013-07-25 00:00:...|       5|       COMPLETE|            9|                  5|                  957|                  299.98|                  1|             299.98|\n",
      "|            11318|2013-07-25 00:00:...|       5|       COMPLETE|           10|                  5|                  365|                   59.99|                  5|             299.95|\n",
      "|            11318|2013-07-25 00:00:...|       5|       COMPLETE|           11|                  5|                 1014|                   49.98|                  2|              99.96|\n",
      "|            11318|2013-07-25 00:00:...|       5|       COMPLETE|           12|                  5|                  957|                  299.98|                  1|             299.98|\n",
      "|            11318|2013-07-25 00:00:...|       5|       COMPLETE|           13|                  5|                  403|                  129.99|                  1|             129.99|\n",
      "|             2911|2013-07-25 00:00:...|       8|     PROCESSING|           17|                  8|                  365|                   59.99|                  3|             179.97|\n",
      "|             2911|2013-07-25 00:00:...|       8|     PROCESSING|           18|                  8|                  365|                   59.99|                  5|             299.95|\n",
      "|             2911|2013-07-25 00:00:...|       8|     PROCESSING|           19|                  8|                 1014|                   49.98|                  4|             199.92|\n",
      "|             2911|2013-07-25 00:00:...|       8|     PROCESSING|           20|                  8|                  502|                    50.0|                  1|               50.0|\n",
      "|             1837|2013-07-25 00:00:...|      12|         CLOSED|           34|                 12|                  957|                  299.98|                  1|             299.98|\n",
      "|             1837|2013-07-25 00:00:...|      12|         CLOSED|           35|                 12|                  134|                    25.0|                  4|              100.0|\n",
      "|             1837|2013-07-25 00:00:...|      12|         CLOSED|           36|                 12|                 1014|                   49.98|                  3|             149.94|\n",
      "|             1837|2013-07-25 00:00:...|      12|         CLOSED|           37|                 12|                  191|                   99.99|                  5|             499.95|\n",
      "+-----------------+--------------------+--------+---------------+-------------+-------------------+---------------------+------------------------+-------------------+-------------------+\n",
      "only showing top 20 rows\n",
      "\n"
     ]
    }
   ],
   "source": [
    "orders_outer.show()"
   ]
  },
  {
   "cell_type": "code",
   "execution_count": 13,
   "metadata": {},
   "outputs": [
    {
     "data": {
      "text/plain": [
       "68883"
      ]
     },
     "execution_count": 13,
     "metadata": {},
     "output_type": "execute_result"
    }
   ],
   "source": [
    "orders.count()"
   ]
  },
  {
   "cell_type": "code",
   "execution_count": 14,
   "metadata": {},
   "outputs": [
    {
     "data": {
      "text/plain": [
       "172198"
      ]
     },
     "execution_count": 14,
     "metadata": {},
     "output_type": "execute_result"
    }
   ],
   "source": [
    "order_items.count()"
   ]
  },
  {
   "cell_type": "code",
   "execution_count": 15,
   "metadata": {},
   "outputs": [
    {
     "data": {
      "text/plain": [
       "172198"
      ]
     },
     "execution_count": 15,
     "metadata": {},
     "output_type": "execute_result"
    }
   ],
   "source": [
    "orders_join.count()"
   ]
  },
  {
   "cell_type": "code",
   "execution_count": 16,
   "metadata": {},
   "outputs": [
    {
     "data": {
      "text/plain": [
       "183650"
      ]
     },
     "execution_count": 16,
     "metadata": {},
     "output_type": "execute_result"
    }
   ],
   "source": [
    "orders_outer.count()"
   ]
  },
  {
   "cell_type": "code",
   "execution_count": 17,
   "metadata": {},
   "outputs": [
    {
     "name": "stdout",
     "output_type": "stream",
     "text": [
      "+-----------------+--------------------+--------+---------------+-------------+\n",
      "|order_customer_id|          order_date|order_id|   order_status|order_item_id|\n",
      "+-----------------+--------------------+--------+---------------+-------------+\n",
      "|              256|2013-07-25 00:00:...|       2|PENDING_PAYMENT|            2|\n",
      "|              256|2013-07-25 00:00:...|       2|PENDING_PAYMENT|            3|\n",
      "|              256|2013-07-25 00:00:...|       2|PENDING_PAYMENT|            4|\n",
      "|             8827|2013-07-25 00:00:...|       4|         CLOSED|            5|\n",
      "|             8827|2013-07-25 00:00:...|       4|         CLOSED|            6|\n",
      "|             8827|2013-07-25 00:00:...|       4|         CLOSED|            7|\n",
      "|             8827|2013-07-25 00:00:...|       4|         CLOSED|            8|\n",
      "|            11318|2013-07-25 00:00:...|       5|       COMPLETE|            9|\n",
      "|            11318|2013-07-25 00:00:...|       5|       COMPLETE|           10|\n",
      "|            11318|2013-07-25 00:00:...|       5|       COMPLETE|           11|\n",
      "|            11318|2013-07-25 00:00:...|       5|       COMPLETE|           12|\n",
      "|            11318|2013-07-25 00:00:...|       5|       COMPLETE|           13|\n",
      "|             2911|2013-07-25 00:00:...|       8|     PROCESSING|           17|\n",
      "|             2911|2013-07-25 00:00:...|       8|     PROCESSING|           18|\n",
      "|             2911|2013-07-25 00:00:...|       8|     PROCESSING|           19|\n",
      "|             2911|2013-07-25 00:00:...|       8|     PROCESSING|           20|\n",
      "|             1837|2013-07-25 00:00:...|      12|         CLOSED|           34|\n",
      "|             1837|2013-07-25 00:00:...|      12|         CLOSED|           35|\n",
      "|             1837|2013-07-25 00:00:...|      12|         CLOSED|           36|\n",
      "|             1837|2013-07-25 00:00:...|      12|         CLOSED|           37|\n",
      "+-----------------+--------------------+--------+---------------+-------------+\n",
      "only showing top 20 rows\n",
      "\n"
     ]
    }
   ],
   "source": [
    "orders. \\\n",
    "    join(\n",
    "        order_items, \n",
    "        on=orders['order_id'] == order_items['order_item_order_id'],\n",
    "        how='outer'\n",
    "    ). \\\n",
    "    select(orders['*'], order_items['order_item_id']). \\\n",
    "    show()"
   ]
  },
  {
   "cell_type": "code",
   "execution_count": 21,
   "metadata": {},
   "outputs": [
    {
     "name": "stdout",
     "output_type": "stream",
     "text": [
      "+-----------------+--------------------+--------+---------------+-------------+\n",
      "|order_customer_id|          order_date|order_id|   order_status|order_item_id|\n",
      "+-----------------+--------------------+--------+---------------+-------------+\n",
      "|             7562|2013-07-25 00:00:...|      26|       COMPLETE|         null|\n",
      "|            10628|2013-07-25 00:00:...|      54|PENDING_PAYMENT|         null|\n",
      "|             2052|2013-07-25 00:00:...|      55|        PENDING|         null|\n",
      "|             8365|2013-07-25 00:00:...|      60|PENDING_PAYMENT|         null|\n",
      "|             7327|2013-07-25 00:00:...|      79|PENDING_PAYMENT|         null|\n",
      "|             3566|2013-07-25 00:00:...|      82|PENDING_PAYMENT|         null|\n",
      "|              824|2013-07-25 00:00:...|      89|        ON_HOLD|         null|\n",
      "|             4611|2013-07-26 00:00:...|     125|PENDING_PAYMENT|         null|\n",
      "|             2772|2013-07-26 00:00:...|     128|PENDING_PAYMENT|         null|\n",
      "|             8876|2013-07-26 00:00:...|     153|       COMPLETE|         null|\n",
      "|             2611|2013-07-26 00:00:...|     169|        ON_HOLD|         null|\n",
      "|             2897|2013-07-26 00:00:...|     176|PENDING_PAYMENT|         null|\n",
      "|            12105|2013-07-26 00:00:...|     183|       COMPLETE|         null|\n",
      "|            11791|2013-07-26 00:00:...|     203|PENDING_PAYMENT|         null|\n",
      "|            10102|2013-07-26 00:00:...|     210|       COMPLETE|         null|\n",
      "|             5420|2013-07-26 00:00:...|     217|     PROCESSING|         null|\n",
      "|             5689|2013-07-26 00:00:...|     270|       COMPLETE|         null|\n",
      "|             2221|2013-07-26 00:00:...|     276|PENDING_PAYMENT|         null|\n",
      "|             5506|2013-07-26 00:00:...|     291|     PROCESSING|         null|\n",
      "|             4967|2013-07-26 00:00:...|     298|       COMPLETE|         null|\n",
      "+-----------------+--------------------+--------+---------------+-------------+\n",
      "only showing top 20 rows\n",
      "\n"
     ]
    }
   ],
   "source": [
    "orders. \\\n",
    "    join(\n",
    "        order_items, \n",
    "        on=orders['order_id'] == order_items['order_item_order_id'],\n",
    "        how='outer'\n",
    "    ). \\\n",
    "    filter(order_items['order_item_id'].isNull()). \\\n",
    "    select(orders['*'], order_items['order_item_id']). \\\n",
    "    show()"
   ]
  },
  {
   "cell_type": "code",
   "execution_count": 22,
   "metadata": {},
   "outputs": [
    {
     "data": {
      "text/plain": [
       "11452"
      ]
     },
     "execution_count": 22,
     "metadata": {},
     "output_type": "execute_result"
    }
   ],
   "source": [
    "orders. \\\n",
    "    join(\n",
    "        order_items, \n",
    "        on=orders['order_id'] == order_items['order_item_order_id'],\n",
    "        how='outer'\n",
    "    ). \\\n",
    "    filter(order_items['order_item_id'].isNull()). \\\n",
    "    count()"
   ]
  },
  {
   "cell_type": "code",
   "execution_count": 25,
   "metadata": {},
   "outputs": [
    {
     "data": {
      "text/plain": [
       "11452"
      ]
     },
     "execution_count": 25,
     "metadata": {},
     "output_type": "execute_result"
    }
   ],
   "source": [
    "orders. \\\n",
    "    alias('o'). \\\n",
    "    join(\n",
    "        order_items.alias('oi'), \n",
    "        on=orders['order_id'] == order_items['order_item_order_id'],\n",
    "        how='outer'\n",
    "    ). \\\n",
    "    filter('oi.order_item_id IS NULL'). \\\n",
    "    count()"
   ]
  },
  {
   "cell_type": "code",
   "execution_count": 23,
   "metadata": {},
   "outputs": [
    {
     "data": {
      "text/plain": [
       "172198"
      ]
     },
     "execution_count": 23,
     "metadata": {},
     "output_type": "execute_result"
    }
   ],
   "source": [
    "orders. \\\n",
    "    join(\n",
    "        order_items, \n",
    "        on=orders['order_id'] == order_items['order_item_order_id'],\n",
    "        how='outer'\n",
    "    ). \\\n",
    "    filter(order_items['order_item_id'].isNotNull()). \\\n",
    "    count()"
   ]
  },
  {
   "cell_type": "code",
   "execution_count": null,
   "metadata": {},
   "outputs": [],
   "source": []
  }
 ],
 "metadata": {
  "kernelspec": {
   "display_name": "Pyspark 2",
   "language": "python",
   "name": "pyspark2"
  },
  "language_info": {
   "codemirror_mode": {
    "name": "ipython",
    "version": 3
   },
   "file_extension": ".py",
   "mimetype": "text/x-python",
   "name": "python",
   "nbconvert_exporter": "python",
   "pygments_lexer": "ipython3",
   "version": "3.6.8"
  }
 },
 "nbformat": 4,
 "nbformat_minor": 4
}
